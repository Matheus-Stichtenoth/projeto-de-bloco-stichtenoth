{
 "cells": [
  {
   "cell_type": "code",
   "execution_count": 1,
   "metadata": {},
   "outputs": [],
   "source": [
    "import pandas as pd"
   ]
  },
  {
   "cell_type": "code",
   "execution_count": 4,
   "metadata": {},
   "outputs": [],
   "source": [
    "df = pd.read_csv('data/informacoes_inadimplencia.csv')"
   ]
  },
  {
   "cell_type": "code",
   "execution_count": 6,
   "metadata": {},
   "outputs": [
    {
     "name": "stdout",
     "output_type": "stream",
     "text": [
      "Os dados do principal indicador de inadimplência do Brasil ainda apontam leve crescimento no volume de endividados. Depois da retração registrada nos últimos meses, julho apresentou um aumento de 136 mil consumidores no cadastro de negativação – aumento de 0,22%. Ao todo, são 72,66 milhões de brasileiros em situação de inadimplência.\n"
     ]
    }
   ],
   "source": [
    "print(df['conteudo'][1])"
   ]
  },
  {
   "cell_type": "code",
   "execution_count": 7,
   "metadata": {},
   "outputs": [
    {
     "name": "stdout",
     "output_type": "stream",
     "text": [
      "Curiosidade n° 1: Os dados do principal indicador de inadimplência do Brasil ainda apontam leve crescimento no volume de endividados. Depois da retração registrada nos últimos meses, julho apresentou um aumento de 136 mil consumidores no cadastro de negativação – aumento de 0,22%. Ao todo, são 72,66 milhões de brasileiros em situação de inadimplência.\n",
      "Curiosidade n° 2: Os brasileiros com idades entre 41 e 60 anos representam a maior fatia da população com nome restrito, com 35,1%. Na sequência estão as faixas etárias de 26 a 40 anos (34,1%), acima de 60 anos (18,9%) e os jovens entre 18 e 25 anos (11,9%).\n",
      "Curiosidade n° 3: O valor médio de cada acordo realizado em maio no Serasa Limpa Nome, plataforma de renegociação de dívidas da Serasa, foi de R$ 756,81. No total, foram somados mais de R$ 8,59 bilhões em descontos concedidos no mês.\n"
     ]
    }
   ],
   "source": [
    "for i in range(3):\n",
    "    curiosidade = f'Curiosidade n° {i+1}: {df[\"conteudo\"][i+1]}'\n",
    "    print(curiosidade)"
   ]
  },
  {
   "cell_type": "code",
   "execution_count": null,
   "metadata": {},
   "outputs": [],
   "source": []
  }
 ],
 "metadata": {
  "kernelspec": {
   "display_name": "Python 3",
   "language": "python",
   "name": "python3"
  },
  "language_info": {
   "codemirror_mode": {
    "name": "ipython",
    "version": 3
   },
   "file_extension": ".py",
   "mimetype": "text/x-python",
   "name": "python",
   "nbconvert_exporter": "python",
   "pygments_lexer": "ipython3",
   "version": "3.11.9"
  }
 },
 "nbformat": 4,
 "nbformat_minor": 2
}

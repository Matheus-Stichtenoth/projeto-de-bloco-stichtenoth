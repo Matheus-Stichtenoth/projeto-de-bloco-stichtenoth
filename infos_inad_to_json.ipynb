{
 "cells": [
  {
   "cell_type": "code",
   "execution_count": 2,
   "metadata": {},
   "outputs": [
    {
     "name": "stdout",
     "output_type": "stream",
     "text": [
      "Arquivo JSON criado: data/informacoes_inadimplencia.json\n"
     ]
    }
   ],
   "source": [
    "import pandas as pd\n",
    "\n",
    "# Caminho para o arquivo CSV\n",
    "csv_file = 'data/informacoes_inadimplencia.csv'\n",
    "\n",
    "# Ler o arquivo CSV\n",
    "df = pd.read_csv(csv_file)\n",
    "\n",
    "# Converter o DataFrame em JSON\n",
    "json_data = df.to_json(orient='records')\n",
    "\n",
    "# Caminho para salvar o arquivo JSON\n",
    "json_file = 'data/informacoes_inadimplencia.json'\n",
    "\n",
    "# Escrever o arquivo JSON\n",
    "with open(json_file, 'w') as f:\n",
    "    f.write(json_data)\n",
    "\n",
    "print(f\"Arquivo JSON criado: {json_file}\")"
   ]
  }
 ],
 "metadata": {
  "kernelspec": {
   "display_name": "Python 3",
   "language": "python",
   "name": "python3"
  },
  "language_info": {
   "codemirror_mode": {
    "name": "ipython",
    "version": 3
   },
   "file_extension": ".py",
   "mimetype": "text/x-python",
   "name": "python",
   "nbconvert_exporter": "python",
   "pygments_lexer": "ipython3",
   "version": "3.12.4"
  }
 },
 "nbformat": 4,
 "nbformat_minor": 2
}
